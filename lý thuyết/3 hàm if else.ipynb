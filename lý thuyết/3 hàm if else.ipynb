{
 "cells": [
  {
   "cell_type": "code",
   "execution_count": 1,
   "id": "07657e0e-d41d-496e-b0e5-4f8b2a0ba99e",
   "metadata": {},
   "outputs": [
    {
     "name": "stdout",
     "output_type": "stream",
     "text": [
      "5 lớn hơn 3 \n",
      "lớn hơn thật\n"
     ]
    }
   ],
   "source": [
    "# theo thư tự sử dụng từ if elif else\n",
    "# khi muốn dùng nhiều lệnh trong câu đky ta ngăn cách bằng dấu ;\n",
    "a=5\n",
    "if a>3: print(a, 'lớn hơn 3 ');print('lớn hơn thật')"
   ]
  },
  {
   "cell_type": "code",
   "execution_count": 5,
   "id": "750a33d0-f310-44da-8158-9d686506c4b6",
   "metadata": {},
   "outputs": [
    {
     "name": "stdin",
     "output_type": "stream",
     "text": [
      "nhập số 3\n"
     ]
    },
    {
     "name": "stdout",
     "output_type": "stream",
     "text": [
      "old\n"
     ]
    }
   ],
   "source": [
    "# toán tử 3 ngôi \n",
    "''' variable = 1 if 2 else 3\n",
    "nếu 2 đúng 1 được thực hiện\n",
    "nếu 2 sai 3 được thực hiện\n",
    "'''\n",
    "b=input('nhập số')\n",
    "c= 'oven' if int(b)%2==0 else 'old'\n",
    "print(c)"
   ]
  },
  {
   "cell_type": "code",
   "execution_count": 7,
   "id": "0363a0b0-9244-44a9-ac97-ac1594540c15",
   "metadata": {},
   "outputs": [
    {
     "name": "stdout",
     "output_type": "stream",
     "text": [
      "ok\n"
     ]
    }
   ],
   "source": [
    "# lưu í việc ngang hàng trong vế () là ưu tiên nhất if a and (b or c)\n",
    "# khi không có ngoặc đơn thì trong if chỉ có and hoặc chỉ có or\n",
    "print('ok')"
   ]
  },
  {
   "cell_type": "code",
   "execution_count": null,
   "id": "8dd2ae85-b66f-4109-8b15-ee29c22ad911",
   "metadata": {},
   "outputs": [],
   "source": []
  }
 ],
 "metadata": {
  "kernelspec": {
   "display_name": "Python 3 (ipykernel)",
   "language": "python",
   "name": "python3"
  },
  "language_info": {
   "codemirror_mode": {
    "name": "ipython",
    "version": 3
   },
   "file_extension": ".py",
   "mimetype": "text/x-python",
   "name": "python",
   "nbconvert_exporter": "python",
   "pygments_lexer": "ipython3",
   "version": "3.12.7"
  }
 },
 "nbformat": 4,
 "nbformat_minor": 5
}
