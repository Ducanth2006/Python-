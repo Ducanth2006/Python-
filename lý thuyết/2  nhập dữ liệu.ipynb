{
 "cells": [
  {
   "cell_type": "code",
   "execution_count": 5,
   "id": "eac98d24-1c7b-44c7-af92-d069620280d0",
   "metadata": {},
   "outputs": [
    {
     "name": "stdin",
     "output_type": "stream",
     "text": [
      "nhập 100 200 300 \n"
     ]
    },
    {
     "name": "stdout",
     "output_type": "stream",
     "text": [
      "100 200 300\n"
     ]
    }
   ],
   "source": [
    "# kiểu dữ liệu sau khi nhập luôn là string\n",
    "a=input('nhập')\n",
    "s=a.split()\n",
    "x,y,z=map(int,s)\n",
    "print(x,y,z)"
   ]
  },
  {
   "cell_type": "code",
   "execution_count": 7,
   "id": "ea48e76c-12bb-45b4-9c10-826dd83fe9cb",
   "metadata": {},
   "outputs": [
    {
     "name": "stdin",
     "output_type": "stream",
     "text": [
      " 100 200 300\n"
     ]
    }
   ],
   "source": [
    "#nhập  nhanh\n",
    "x,y,z=map(int,input().split())"
   ]
  },
  {
   "cell_type": "code",
   "execution_count": 23,
   "id": "03ba0ed7-c48a-454e-a3cc-7feef426fa60",
   "metadata": {},
   "outputs": [
    {
     "name": "stdout",
     "output_type": "stream",
     "text": [
      "6.0\n",
      "2\n",
      "8.0\n",
      "3\n",
      "2\n",
      "2\n"
     ]
    }
   ],
   "source": [
    "from math import *\n",
    "#sqrt\n",
    "print(sqrt(36))\n",
    "#isqrt căn bậc 2 lấy nguyên \n",
    "print(isqrt(5))\n",
    "#pow lũy thừa\n",
    "print(pow(2,3))\n",
    "# ceil làm tròn lên\n",
    "print(ceil(2.5))\n",
    "#giai thừa\n",
    "print(factorial(2))\n",
    "#ước chung lớn nhất,ta có 30 và 6 ta nói 6 là ước của 30 và 30 là bội của 6\n",
    "print(gcd(10,2))\n",
    "#comb(n,k)\n",
    "# abs hàm trị tuyệt đối\n"
   ]
  },
  {
   "cell_type": "code",
   "execution_count": null,
   "id": "efc30d55-f2de-4657-bdf9-32b4f4be0123",
   "metadata": {},
   "outputs": [],
   "source": [
    "#hàm không cần math\n",
    "'''\n",
    "max\n",
    "min\n",
    "round làm trong phụ thuộc vào phần thập phân còn ceil và floor thì ko\n",
    "sum tính tổng\n",
    "'''\n",
    "print(round"
   ]
  }
 ],
 "metadata": {
  "kernelspec": {
   "display_name": "Python 3 (ipykernel)",
   "language": "python",
   "name": "python3"
  },
  "language_info": {
   "codemirror_mode": {
    "name": "ipython",
    "version": 3
   },
   "file_extension": ".py",
   "mimetype": "text/x-python",
   "name": "python",
   "nbconvert_exporter": "python",
   "pygments_lexer": "ipython3",
   "version": "3.12.7"
  }
 },
 "nbformat": 4,
 "nbformat_minor": 5
}
