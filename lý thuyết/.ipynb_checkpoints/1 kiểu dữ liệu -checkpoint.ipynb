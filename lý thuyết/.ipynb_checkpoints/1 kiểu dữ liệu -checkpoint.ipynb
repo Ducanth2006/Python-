{
 "cells": [
  {
   "cell_type": "code",
   "execution_count": 25,
   "id": "0b7ee877-22e3-48ad-9556-84c7aa1356ea",
   "metadata": {},
   "outputs": [
    {
     "name": "stdout",
     "output_type": "stream",
     "text": [
      "ronaldo messi ronaldokk không xuống đc đâu\n"
     ]
    }
   ],
   "source": [
    "#print(biến,sep,end)\n",
    "print('ronaldo','ronaldo',sep=' messi ',end='kk')\n",
    "#lưu ý khi ta sử dụng end thì sẽ không có xuống dòng ở câu lệnh print tiếp theo\n",
    "print(' không xuống đc đâu')"
   ]
  },
  {
   "cell_type": "code",
   "execution_count": 39,
   "id": "65470964-c2c1-42fe-9c51-16c6903b583e",
   "metadata": {},
   "outputs": [
    {
     "name": "stdout",
     "output_type": "stream",
     "text": [
      "tôi \n",
      "tôi\n"
     ]
    }
   ],
   "source": [
    "#lưu ý ta có \\r là ghi đè lên dòng ký tự cũ và giữ nguyên ở dòng đấy và \\n là xuống dòng\n",
    "print('tôi \\ntôi')"
   ]
  },
  {
   "cell_type": "code",
   "execution_count": 75,
   "id": "74d453be-e804-492c-bb49-f85e0f4d25cd",
   "metadata": {},
   "outputs": [
    {
     "name": "stdout",
     "output_type": "stream",
     "text": [
      "Đang tải: 100%\n",
      "Hoàn thành!\n"
     ]
    }
   ],
   "source": [
    "\n",
    "import time\n",
    "\n",
    "for i in range(101):\n",
    "    print(f\"Đang tải: {i}%\", end=\"\\r\")\n",
    "    time.sleep(0.1)\n",
    "print(\"\\nHoàn thành!\")\n"
   ]
  },
  {
   "cell_type": "code",
   "execution_count": 55,
   "id": "cffffe36-fdbb-4ec8-bb56-6d6a196b11a7",
   "metadata": {},
   "outputs": [
    {
     "name": "stdout",
     "output_type": "stream",
     "text": [
      "hello\n"
     ]
    }
   ],
   "source": [
    "#để chú thích trên nhiều dòng ta ghi nội dung cần điền vào 3 dấu nháy ''''''\n",
    "\"\"\" \n",
    "đây là chú\n",
    "thích trên nhiều dòng\n",
    "\"\"\"\n",
    "print('hello')"
   ]
  },
  {
   "cell_type": "code",
   "execution_count": 61,
   "id": "c1ac842a-2a8f-4d32-a53c-622124a72fa3",
   "metadata": {},
   "outputs": [
    {
     "name": "stdout",
     "output_type": "stream",
     "text": [
      "ok\n"
     ]
    }
   ],
   "source": [
    "#chú ý khi đặt tên biến \n",
    "'''\n",
    "ko được đặt tên biến như sau\n",
    "bắt đầu bằng số or chứa các ký tự đặc biệt or tên biến ko chứa dấu cách\n",
    "đặc biệt python phân biệt giữa in hoa và in thường\n",
    "'''\n",
    "print('ok')"
   ]
  },
  {
   "cell_type": "code",
   "execution_count": 69,
   "id": "6adeb7d6-0637-420d-a5c8-70d90176e871",
   "metadata": {},
   "outputs": [
    {
     "name": "stdout",
     "output_type": "stream",
     "text": [
      "56.05\n",
      "56.05\n"
     ]
    }
   ],
   "source": [
    "# lấy chính xác các số thập phân cần tìm \n",
    "a=56.04509850\n",
    "print('%.2f' %a) #cách 1\n",
    "print('{:.2f}'.format(a))# approach two"
   ]
  },
  {
   "cell_type": "code",
   "execution_count": 71,
   "id": "04a40a2b-e378-449f-889b-7cb2245af66b",
   "metadata": {},
   "outputs": [
    {
     "name": "stdout",
     "output_type": "stream",
     "text": [
      "<class 'str'>\n"
     ]
    }
   ],
   "source": [
    "print(type('9384'))"
   ]
  },
  {
   "cell_type": "code",
   "execution_count": 73,
   "id": "a4686712-4270-44d9-9966-df4afe1b0a76",
   "metadata": {},
   "outputs": [
    {
     "name": "stdout",
     "output_type": "stream",
     "text": [
      "Không thể ép kiểu chuỗi sang số nguyên.\n"
     ]
    }
   ],
   "source": [
    "'''\n",
    "hợp lệ\n",
    "tuple([1, 2, 3])-->(1, 2, 3)\n",
    "set([1, 2, 2, 3])-->{1,2,3}\n",
    "từ int sang bool chỉ có 0 là false\n",
    "list(\"abc\")-->['a', 'b', 'c']\n",
    "lỗi\n",
    "list → int\tint\tint([1, 2, 3])\tTypeError\n",
    "dict → list (không dùng .items())\tlist\tlist({\"a\": 1})\t[\"a\"] (chỉ lấy key)\n",
    "float (dạng chuỗi) → int\tint\tint(\"3.14\")\tValueError\n",
    "set → list (không có thứ tự)\tlist\tlist({1, 3, 2})\t[1, 2, 3] (thứ tự có thể thay đổi)\n",
    "'''\n",
    "try:\n",
    "    x = \"abc\"\n",
    "    y = int(x)\n",
    "except ValueError:\n",
    "    print(\"Không thể ép kiểu chuỗi sang số nguyên.\")"
   ]
  },
  {
   "cell_type": "code",
   "execution_count": null,
   "id": "67dc462b-8abb-44bf-9902-67abc405785c",
   "metadata": {},
   "outputs": [],
   "source": []
  }
 ],
 "metadata": {
  "kernelspec": {
   "display_name": "Python 3 (ipykernel)",
   "language": "python",
   "name": "python3"
  },
  "language_info": {
   "codemirror_mode": {
    "name": "ipython",
    "version": 3
   },
   "file_extension": ".py",
   "mimetype": "text/x-python",
   "name": "python",
   "nbconvert_exporter": "python",
   "pygments_lexer": "ipython3",
   "version": "3.12.7"
  }
 },
 "nbformat": 4,
 "nbformat_minor": 5
}
