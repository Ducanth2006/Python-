{
 "cells": [
  {
   "cell_type": "code",
   "execution_count": 1,
   "id": "176e2982-ac94-4e71-b0b0-576cf0f4bbbb",
   "metadata": {},
   "outputs": [
    {
     "name": "stdout",
     "output_type": "stream",
     "text": [
      "<class 'range'>\n"
     ]
    }
   ],
   "source": [
    "a=range(1,10)\n",
    "print(type(a))"
   ]
  },
  {
   "cell_type": "code",
   "execution_count": 3,
   "id": "9d071ab6-3713-4321-8e64-da13de6146dc",
   "metadata": {},
   "outputs": [
    {
     "name": "stdout",
     "output_type": "stream",
     "text": [
      "1 nam yêu bống\n",
      "2 nam yêu bống\n",
      "3 nam yêu bống\n"
     ]
    }
   ],
   "source": [
    "for i in range(1,4):\n",
    "    print(i,'nam yêu bống')"
   ]
  },
  {
   "cell_type": "code",
   "execution_count": 21,
   "id": "26dc6007-0930-4b23-bf9e-2212c7ef8a36",
   "metadata": {},
   "outputs": [
    {
     "name": "stdout",
     "output_type": "stream",
     "text": [
      "8\n",
      "7\n",
      "6\n",
      "5\n",
      "4\n",
      "3\n",
      "2\n",
      "1\n",
      "end game\n"
     ]
    }
   ],
   "source": [
    "for i in range(8,0,-1):#lưu ý việc đặt lại vị trí (end, start) với bước là -1\n",
    "    print(i)\n",
    "else:\n",
    "    print('end game')"
   ]
  },
  {
   "cell_type": "code",
   "execution_count": 31,
   "id": "8fe30c2e-32c4-4ced-837c-953b5a08daa5",
   "metadata": {},
   "outputs": [
    {
     "name": "stdout",
     "output_type": "stream",
     "text": [
      "12345678"
     ]
    }
   ],
   "source": [
    "#dùng break và countinue cho for\n",
    "for i in range(1,21):\n",
    "    print(i,end='')\n",
    "    if i %8==0: break\n",
    "# dùng break khi  muốn tìm 1 còn continue tìm các \n"
   ]
  },
  {
   "cell_type": "code",
   "execution_count": 29,
   "id": "068c2dea-d635-4d6f-9558-aafea2bee4a6",
   "metadata": {},
   "outputs": [
    {
     "name": "stdout",
     "output_type": "stream",
     "text": [
      "1 ko chia hết cho 2\n",
      "2 chia hết cho 2\n",
      "3 ko chia hết cho 2\n",
      "4 chia hết cho 2\n",
      "5 ko chia hết cho 2\n",
      "6 chia hết cho 2\n",
      "7 ko chia hết cho 2\n",
      "8 chia hết cho 2\n",
      "9 ko chia hết cho 2\n"
     ]
    }
   ],
   "source": [
    "for i in range(1,10):\n",
    "    if i%2==0:\n",
    "        print(i,'chia hết cho 2')\n",
    "        continue\n",
    "    print(i,'ko chia hết cho 2')   \n",
    "        \n",
    "        \n",
    "    "
   ]
  },
  {
   "cell_type": "code",
   "execution_count": 38,
   "id": "62d07cf1-cfe2-42a1-b386-3d60c545b98e",
   "metadata": {},
   "outputs": [
    {
     "name": "stdout",
     "output_type": "stream",
     "text": [
      "0 0\n",
      "0 1\n",
      "1 0\n",
      "1 1\n",
      "2 0\n",
      "2 1\n"
     ]
    }
   ],
   "source": [
    "#nest for\n",
    "for i in range(3):\n",
    "    for j in range(2):\n",
    "        print(i,j)"
   ]
  },
  {
   "cell_type": "code",
   "execution_count": null,
   "id": "0af2cdd4-12b9-445d-a5e5-7af595437342",
   "metadata": {},
   "outputs": [],
   "source": []
  }
 ],
 "metadata": {
  "kernelspec": {
   "display_name": "Python 3 (ipykernel)",
   "language": "python",
   "name": "python3"
  },
  "language_info": {
   "codemirror_mode": {
    "name": "ipython",
    "version": 3
   },
   "file_extension": ".py",
   "mimetype": "text/x-python",
   "name": "python",
   "nbconvert_exporter": "python",
   "pygments_lexer": "ipython3",
   "version": "3.12.7"
  }
 },
 "nbformat": 4,
 "nbformat_minor": 5
}
