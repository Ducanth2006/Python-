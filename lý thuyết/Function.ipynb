{
 "cells": [
  {
   "cell_type": "code",
   "execution_count": 5,
   "id": "3ddc5500-5730-452b-a190-a7b6f09b1f29",
   "metadata": {},
   "outputs": [
    {
     "name": "stdout",
     "output_type": "stream",
     "text": [
      "3\n"
     ]
    },
    {
     "data": {
      "text/plain": [
       "10"
      ]
     },
     "execution_count": 5,
     "metadata": {},
     "output_type": "execute_result"
    }
   ],
   "source": [
    "# phân biệt tham số và đối số\n",
    "def tong(a,b):# a và b ở đây là tham số hình thức parameter\n",
    "    res=a+b\n",
    "    return res\n",
    "m,n=1,2\n",
    "print(tong(m,n))#m và n ở đây là đối số hay tham số chính thức agrument \n",
    "tong(4,6)"
   ]
  },
  {
   "cell_type": "code",
   "execution_count": 19,
   "id": "1fce4c2f-66f7-4d6e-82f5-a7311cb82872",
   "metadata": {},
   "outputs": [
    {
     "name": "stdout",
     "output_type": "stream",
     "text": [
      "hello nam ro si\n",
      "hello nam ro si\n",
      "<class 'NoneType'>\n"
     ]
    }
   ],
   "source": [
    "# để cách câu lệnh fuction và câu lệnh thực hành \n",
    "def hi(x1,x2,x3):\n",
    "    print('hello',x1,x2,x3)\n",
    "if __name__=='__main__':\n",
    "    hi('nam','ro','si')\n",
    "    print(type(hi('nam','ro','si')))\n",
    "# phải trả lại return thì sẽ có type"
   ]
  },
  {
   "cell_type": "code",
   "execution_count": 21,
   "id": "40f5dc08-3243-449e-9cde-50e58a5bc47e",
   "metadata": {},
   "outputs": [
    {
     "name": "stdout",
     "output_type": "stream",
     "text": [
      "hello nam ro si\n",
      "hello nam ro si\n",
      "<class 'NoneType'>\n"
     ]
    }
   ],
   "source": [
    "def hi(x1,x2,x3):\n",
    "    return  print('hello',x1,x2,x3)\n",
    "if __name__=='__main__':\n",
    "    hi('nam','ro','si')\n",
    "    print(type(hi('nam','ro','si')))\n"
   ]
  },
  {
   "cell_type": "code",
   "execution_count": 23,
   "id": "9ebc1d0e-2ae0-43b2-a623-f36ac43b0729",
   "metadata": {},
   "outputs": [
    {
     "name": "stdout",
     "output_type": "stream",
     "text": [
      "hello nam ro si\n",
      "<class 'str'>\n"
     ]
    }
   ],
   "source": [
    "def hi(x1, x2, x3):\n",
    "    return f'hello {x1} {x2} {x3}'  # Trả về chuỗi thay vì dùng print\n",
    "\n",
    "if __name__ == '__main__':\n",
    "    print(hi('nam', 'ro', 'si'))  # In kết quả trả về\n",
    "    print(type(hi('nam', 'ro', 'si')))  # Kiểm tra kiểu dữ liệu"
   ]
  },
  {
   "cell_type": "code",
   "execution_count": 29,
   "id": "43eb43fe-1836-4ddb-87a0-ba716394405f",
   "metadata": {},
   "outputs": [
    {
     "name": "stdout",
     "output_type": "stream",
     "text": [
      " Hi 1,2,3\n",
      " Hi 3,2,1\n"
     ]
    }
   ],
   "source": [
    "#thứ tự khá quan trọng trong def trừ khi ta khai báo rõ ra các parameter thì không cần thiết\n",
    "def hello(name1,name2,name3,):\n",
    "    return f' Hi {name1},{name2},{name3}'\n",
    "if __name__=='__main__':\n",
    "    print(hello(1,2,3))#positional agrument\n",
    "    print(hello(name3=1,name2=2,name1=3))#key word agru"
   ]
  },
  {
   "cell_type": "code",
   "execution_count": 37,
   "id": "6bf38d5d-081e-46ac-8890-61fc1f000621",
   "metadata": {},
   "outputs": [
    {
     "name": "stdout",
     "output_type": "stream",
     "text": [
      "duc gamer\n",
      "duc xe om\n"
     ]
    }
   ],
   "source": [
    "#default agrument\n",
    "def info(name,job='xe om'):#thiết lập giá trị mặc định (default)\n",
    "    print(name,job)\n",
    "if __name__=='__main__':\n",
    "    info('duc','gamer')\n",
    "    info('duc')#khi ta khôg khai báo cho nó "
   ]
  },
  {
   "cell_type": "code",
   "execution_count": 41,
   "id": "00a88a19-c66b-49d1-acd5-155920a60211",
   "metadata": {},
   "outputs": [
    {
     "data": {
      "text/plain": [
       "100"
      ]
     },
     "execution_count": 41,
     "metadata": {},
     "output_type": "execute_result"
    }
   ],
   "source": [
    "def tong(a,b):\n",
    "    return 100 #dừng ngay tại đây\n",
    "    res=a+b\n",
    "    return res\n",
    "tong(10,20)    "
   ]
  },
  {
   "cell_type": "code",
   "execution_count": null,
   "id": "9824de2c-3633-4eb7-a15d-dadf6b723f64",
   "metadata": {},
   "outputs": [],
   "source": []
  }
 ],
 "metadata": {
  "kernelspec": {
   "display_name": "Python 3 (ipykernel)",
   "language": "python",
   "name": "python3"
  },
  "language_info": {
   "codemirror_mode": {
    "name": "ipython",
    "version": 3
   },
   "file_extension": ".py",
   "mimetype": "text/x-python",
   "name": "python",
   "nbconvert_exporter": "python",
   "pygments_lexer": "ipython3",
   "version": "3.12.4"
  }
 },
 "nbformat": 4,
 "nbformat_minor": 5
}
