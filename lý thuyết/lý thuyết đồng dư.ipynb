{
 "cells": [
  {
   "cell_type": "code",
   "execution_count": 1,
   "id": "747468a8-7d4f-4f25-9e1c-5f624adc74c2",
   "metadata": {},
   "outputs": [
    {
     "name": "stdin",
     "output_type": "stream",
     "text": [
      " 23\n"
     ]
    },
    {
     "name": "stdout",
     "output_type": "stream",
     "text": [
      "2016738884976621905\n"
     ]
    }
   ],
   "source": [
    "# khi gặp phải chia dư cho một số ta sử dụng nó\n",
    "#(A+B)%C=(A%C+B%C)%C\n",
    "#(A-B)%C=(A%C-B%C+C)%C\n",
    "#(A*B)%C=(A%C*B%C)%C\n",
    "#(A/B)%C=(A%C* B^-1 %C)%C\n",
    "#công  dụng chính là giúp số nhỏ dễ chia hơn \n",
    "#ngoài ra ta có thể áp dụng \n",
    "# tính a!% 10 ^19  +7\n",
    "a=int(input())\n",
    "res =1\n",
    "for i in range(1,a+1):\n",
    "    res*=i\n",
    "    res%=10 **19  +7\n",
    "print(res )  \n",
    "#lý thuyết đồng dư quan trọng cho việc học lớn \n",
    "    \n",
    "    "
   ]
  },
  {
   "cell_type": "code",
   "execution_count": null,
   "id": "83e8e128-5298-4211-8a85-de46713176d1",
   "metadata": {},
   "outputs": [],
   "source": []
  }
 ],
 "metadata": {
  "kernelspec": {
   "display_name": "Python 3 (ipykernel)",
   "language": "python",
   "name": "python3"
  },
  "language_info": {
   "codemirror_mode": {
    "name": "ipython",
    "version": 3
   },
   "file_extension": ".py",
   "mimetype": "text/x-python",
   "name": "python",
   "nbconvert_exporter": "python",
   "pygments_lexer": "ipython3",
   "version": "3.12.4"
  }
 },
 "nbformat": 4,
 "nbformat_minor": 5
}
