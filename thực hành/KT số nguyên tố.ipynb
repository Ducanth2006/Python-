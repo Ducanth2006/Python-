{
 "cells": [
  {
   "cell_type": "code",
   "execution_count": 29,
   "id": "efd76156-6bbc-4646-b0f3-59a17f41df5d",
   "metadata": {},
   "outputs": [
    {
     "name": "stdin",
     "output_type": "stream",
     "text": [
      " 9\n"
     ]
    },
    {
     "name": "stdout",
     "output_type": "stream",
     "text": [
      "no\n"
     ]
    }
   ],
   "source": [
    "#kiểm tra số nguyên tố\n",
    "# không tối ưu\n",
    "from  math import *\n",
    "def kt(a):\n",
    "    k=True\n",
    "    if a<2:\n",
    "        return False\n",
    "    for i in range(2,isqrt(a)+1):\n",
    "        if a%i==0:\n",
    "            k=False\n",
    "            break\n",
    "        else:\n",
    "            pass\n",
    "    return k\n",
    "\n",
    "if __name__=='__main__':\n",
    "    a=int(input())\n",
    "    if kt(a):\n",
    "        print('yes')\n",
    "    else:\n",
    "        print('no')\n",
    "            "
   ]
  },
  {
   "cell_type": "code",
   "execution_count": 31,
   "id": "f9e00c35-efda-4eeb-b09b-08e5bf1a83dc",
   "metadata": {},
   "outputs": [
    {
     "name": "stdout",
     "output_type": "stream",
     "text": [
      "True\n",
      "False\n",
      "True\n"
     ]
    }
   ],
   "source": [
    "#kiểm tra só nguyên tố tối ưu\n",
    "from math import isqrt\n",
    "\n",
    "def is_prime(n):\n",
    "    if n < 2:\n",
    "        return False\n",
    "    if n in (2, 3):\n",
    "        return True\n",
    "    if n % 2 == 0 or n % 3 == 0:#Nếu n chia hết cho 2, tức là số chẵn (trừ số 2, không có số nguyên tố chẵn nào khác).\n",
    "                                #Nếu n chia hết cho 3, tức là bội số của 3 (trừ số 3, các số còn lại đều không phải số nguyên tố).\n",
    "        return False\n",
    "\n",
    "    # Chỉ kiểm tra các số dạng 6k ± 1\n",
    "    for i in range(5, isqrt(n) + 1, 6):\n",
    "        if n % i == 0 or n % (i + 2) == 0:#kiểm tra 6k-1 and 6k+1 chỉ có 2 dạng này mới là số nguyên tố \n",
    "            return False\n",
    "    return True\n",
    "\n",
    "# Test\n",
    "print(is_prime(29))  # ✅ True\n",
    "print(is_prime(35))  # ❌ False\n",
    "print(is_prime(97))  # ✅ True\n"
   ]
  },
  {
   "cell_type": "code",
   "execution_count": null,
   "id": "964ddd93-0f89-4f29-953e-154b4495b835",
   "metadata": {},
   "outputs": [],
   "source": [
    "g"
   ]
  }
 ],
 "metadata": {
  "kernelspec": {
   "display_name": "Python 3 (ipykernel)",
   "language": "python",
   "name": "python3"
  },
  "language_info": {
   "codemirror_mode": {
    "name": "ipython",
    "version": 3
   },
   "file_extension": ".py",
   "mimetype": "text/x-python",
   "name": "python",
   "nbconvert_exporter": "python",
   "pygments_lexer": "ipython3",
   "version": "3.12.4"
  }
 },
 "nbformat": 4,
 "nbformat_minor": 5
}
