{
 "cells": [
  {
   "cell_type": "code",
   "execution_count": 16,
   "id": "fe8738c3-0e15-46bd-82b6-7dc8acc46710",
   "metadata": {},
   "outputs": [
    {
     "name": "stdin",
     "output_type": "stream",
     "text": [
      " 28\n"
     ]
    },
    {
     "name": "stdout",
     "output_type": "stream",
     "text": [
      "co\n"
     ]
    }
   ],
   "source": [
    "#số hoàn hảo là số có tổng số ước = nó nhớ trừ nó ra\n",
    "import math \n",
    "def pernum(a):\n",
    "    s=1# cho tổng =1 bởi vì range sẽ bắt đầu bằng 2 \n",
    "    for i in range(2,math.isqrt(a)+1):\n",
    "        if a%i==0:\n",
    "            s+=i\n",
    "            if i != s//i:#nếu số đó là số chính phương\n",
    "                s+=a//i\n",
    "                \n",
    "    if s==a:\n",
    "        return True\n",
    "    else:\n",
    "        return False\n",
    "\n",
    "\n",
    "if __name__=='__main__':\n",
    "    a=int(input())\n",
    "    if pernum(a):\n",
    "        print('co')\n",
    "    else:\n",
    "        print('no')"
   ]
  },
  {
   "cell_type": "code",
   "execution_count": null,
   "id": "fbe3130a-c909-4d53-8b6a-cdf83a4b5610",
   "metadata": {},
   "outputs": [],
   "source": [
    "#để kiểm tra số lơns hơn định lý ecluid nếu p là số nguyên tố thì (p*2-1)*(2^(p-1)) cũng là một số nguyên tố \n",
    "# đầu tiên ta sẽ tạo hàm tìm số nguyên tố ta sẽ tìm đến 35 thôi \n",
    "# sau đó ta sử dụng công thức trên để tìm ra các số hoàn hảo rồi so sánh\n",
    "# bởi vì có rất ít số hoàn hảo \n"
   ]
  }
 ],
 "metadata": {
  "kernelspec": {
   "display_name": "Python 3 (ipykernel)",
   "language": "python",
   "name": "python3"
  },
  "language_info": {
   "codemirror_mode": {
    "name": "ipython",
    "version": 3
   },
   "file_extension": ".py",
   "mimetype": "text/x-python",
   "name": "python",
   "nbconvert_exporter": "python",
   "pygments_lexer": "ipython3",
   "version": "3.12.7"
  }
 },
 "nbformat": 4,
 "nbformat_minor": 5
}
