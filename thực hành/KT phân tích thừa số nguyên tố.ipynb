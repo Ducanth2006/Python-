{
 "cells": [
  {
   "cell_type": "code",
   "execution_count": 43,
   "id": "6fcda962-8f8a-49cf-8b12-9364ee108751",
   "metadata": {},
   "outputs": [
    {
     "name": "stdin",
     "output_type": "stream",
     "text": [
      " 23\n"
     ]
    },
    {
     "name": "stdout",
     "output_type": "stream",
     "text": [
      "23 "
     ]
    }
   ],
   "source": [
    "#khi phân tích thừa số nguyên tố hãy nghĩ ít lại\n",
    "import math\n",
    "\n",
    "def kt(a):\n",
    "    if a<=1:\n",
    "        print('no')\n",
    "    else:\n",
    "        for i in range(2,math.isqrt(a)+1):\n",
    "            if a%i==0:\n",
    "                while a%i==0:\n",
    "                     print(i,end=' ')\n",
    "                     a//=i\n",
    "        if a>1:#nếu a là số nguyên tố or sau khi chia thì gặp  số nguyên tố  \n",
    "            print(a,end=' ')\n",
    "\n",
    "\n",
    "\n",
    "   \n",
    "if __name__=='__main__':\n",
    "    a=int(input())\n",
    "    kt(a)\n",
    "    \n",
    "\n",
    "\n",
    "\n"
   ]
  },
  {
   "cell_type": "code",
   "execution_count": null,
   "id": "c1cf28a9-ed2e-4982-8ba7-7e994fce7c75",
   "metadata": {},
   "outputs": [],
   "source": []
  }
 ],
 "metadata": {
  "kernelspec": {
   "display_name": "Python 3 (ipykernel)",
   "language": "python",
   "name": "python3"
  },
  "language_info": {
   "codemirror_mode": {
    "name": "ipython",
    "version": 3
   },
   "file_extension": ".py",
   "mimetype": "text/x-python",
   "name": "python",
   "nbconvert_exporter": "python",
   "pygments_lexer": "ipython3",
   "version": "3.12.4"
  }
 },
 "nbformat": 4,
 "nbformat_minor": 5
}
