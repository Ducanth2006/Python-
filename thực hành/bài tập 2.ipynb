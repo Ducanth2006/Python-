{
 "cells": [
  {
   "cell_type": "code",
   "execution_count": 1,
   "id": "d6a99a46-f656-46f9-9f73-9f053d15b3d1",
   "metadata": {},
   "outputs": [
    {
     "name": "stdin",
     "output_type": "stream",
     "text": [
      " 2\n"
     ]
    },
    {
     "name": "stdout",
     "output_type": "stream",
     "text": [
      "23\n"
     ]
    }
   ],
   "source": [
    "# kiểu dữ liệu if else\n",
    "a=int(input())\n",
    "b=a**3+3*(a**2)+a+1\n",
    "print(b)"
   ]
  },
  {
   "cell_type": "code",
   "execution_count": 5,
   "id": "ad8cb7c4-d2ab-49d2-bc15-c2eff5588364",
   "metadata": {},
   "outputs": [
    {
     "name": "stdin",
     "output_type": "stream",
     "text": [
      " 1 2 3\n"
     ]
    },
    {
     "name": "stdout",
     "output_type": "stream",
     "text": [
      "13\n"
     ]
    }
   ],
   "source": [
    "a,b,c=map(int,input().split())\n",
    "x=a*(b+c)+b*(a+c)\n",
    "print(x)"
   ]
  },
  {
   "cell_type": "code",
   "execution_count": 15,
   "id": "c2c631e5-6c24-4656-82ca-6cb1beeab99d",
   "metadata": {},
   "outputs": [
    {
     "name": "stdin",
     "output_type": "stream",
     "text": [
      " 24\n"
     ]
    },
    {
     "name": "stdout",
     "output_type": "stream",
     "text": [
      "75.20\n"
     ]
    }
   ],
   "source": [
    "a=int(input())\n",
    "x=a*(9/5)+32\n",
    "print('%.2f'%x)"
   ]
  },
  {
   "cell_type": "code",
   "execution_count": 25,
   "id": "7ff21c7b-092f-4d5e-afc6-b353e76707d8",
   "metadata": {},
   "outputs": [
    {
     "name": "stdin",
     "output_type": "stream",
     "text": [
      " 10\n"
     ]
    },
    {
     "name": "stdout",
     "output_type": "stream",
     "text": [
      "chu vi  là  62.8000\n",
      "diện tích là  314.0000\n"
     ]
    }
   ],
   "source": [
    "a=int(input())\n",
    "print('chu vi  là ','%.4f'% (2*3.14*a))\n",
    "print('diện tích là ','%.4f'%(3.14*(a**2)))"
   ]
  },
  {
   "cell_type": "code",
   "execution_count": 31,
   "id": "8db2702e-6469-4eed-9ad5-80e064012865",
   "metadata": {},
   "outputs": [
    {
     "name": "stdin",
     "output_type": "stream",
     "text": [
      " 1 4 4 8\n"
     ]
    },
    {
     "name": "stdout",
     "output_type": "stream",
     "text": [
      "khoảng cách is 5.00\n"
     ]
    }
   ],
   "source": [
    "a,b,c,d=map(int,input().split())\n",
    "print('khoảng cách is','{:.2f}'.format(((a-c)**2+(b-d)**2)**(1/2))) \n",
    "# kết thúc bài 5"
   ]
  },
  {
   "cell_type": "code",
   "execution_count": 8,
   "id": "b2686e19-37bd-4162-bbff-12537d5c98c0",
   "metadata": {},
   "outputs": [
    {
     "name": "stdin",
     "output_type": "stream",
     "text": [
      " 1916\n"
     ]
    },
    {
     "name": "stdout",
     "output_type": "stream",
     "text": [
      "NO\n",
      "6 là bội của 3\n"
     ]
    }
   ],
   "source": [
    "#bài 6\n",
    "a=int(input())\n",
    "b=a%100\n",
    "c=True\n",
    "for i in range(2,b):\n",
    "    if b%i==0:\n",
    "        c=False\n",
    "if c:\n",
    "    print('YES')\n",
    "else:\n",
    "    print('NO')\n",
    "if (a%10)%3==0:\n",
    "    print(a%10,'là bội của 3')"
   ]
  },
  {
   "cell_type": "code",
   "execution_count": 12,
   "id": "7798151f-a00d-4252-9998-9c3bdea78349",
   "metadata": {},
   "outputs": [
    {
     "name": "stdin",
     "output_type": "stream",
     "text": [
      " 717 689\n"
     ]
    },
    {
     "name": "stdout",
     "output_type": "stream",
     "text": [
      "689\n",
      "1378\n"
     ]
    }
   ],
   "source": [
    "#bài hay \n",
    "a,b=map(int,input().split())\n",
    "line1=0\n",
    "if a%b==0:\n",
    "    line1=a\n",
    "else:\n",
    "    line1=(a//b)*b\n",
    "line2=((a//b)*b)+b    \n",
    "print(line1)\n",
    "print(line2)"
   ]
  },
  {
   "cell_type": "code",
   "execution_count": 18,
   "id": "a14ca2dc-99d4-43b7-8a10-55d6fd0cc45a",
   "metadata": {},
   "outputs": [
    {
     "name": "stdin",
     "output_type": "stream",
     "text": [
      " 2021\n"
     ]
    },
    {
     "name": "stdout",
     "output_type": "stream",
     "text": [
      "2021 ko là năm năm nhuận\n"
     ]
    }
   ],
   "source": [
    "year=int(input())\n",
    "print(year,'là năm nhuận') if (year%400==0 or year %4==0) and year%100!=0 else print(year,'ko là năm năm nhuận')"
   ]
  },
  {
   "cell_type": "code",
   "execution_count": 22,
   "id": "98c0de6a-69ef-4c5a-812f-c98be7a2ab12",
   "metadata": {},
   "outputs": [
    {
     "name": "stdin",
     "output_type": "stream",
     "text": [
      "nhập ba số theo chiều tăng dần 3 4 5 \n"
     ]
    },
    {
     "name": "stdout",
     "output_type": "stream",
     "text": [
      "tam giác hợp lệ \n"
     ]
    }
   ],
   "source": [
    "a,b,c=map(int,input('nhập ba số theo chiều tăng dần').split())\n",
    "if a >0 and b>0 and c>0:\n",
    "    if a+b>c:\n",
    "        print('tam giác hợp lệ ')\n",
    "    else:\n",
    "        print('tam giác không hợp lệ ')\n",
    "else:\n",
    "    print('tam giác không hợp lệ')\n"
   ]
  },
  {
   "cell_type": "code",
   "execution_count": 28,
   "id": "cecbe314-b5cc-4034-b9d4-51a0d821d395",
   "metadata": {},
   "outputs": [
    {
     "name": "stdin",
     "output_type": "stream",
     "text": [
      " 11 2021\n"
     ]
    },
    {
     "name": "stdout",
     "output_type": "stream",
     "text": [
      "30 day\n"
     ]
    }
   ],
   "source": [
    "a,b=map(int,input().split())\n",
    "if (b%400==0 or b%4==0) and b%100!=0:\n",
    "    if a==2:\n",
    "        print('29 day')\n",
    "    elif a==1 or a==3 or a==5 or a==7 or a==8 or a==10 or a==12:\n",
    "        print('31 day')\n",
    "    else:\n",
    "        print('30 day')\n",
    "else:\n",
    "    if a==2:\n",
    "        print('29 day')\n",
    "    elif a==1 or a==3 or a==5 or a==7 or a==8 or a==10 or a==12:\n",
    "        print('31 day')\n",
    "    else:\n",
    "        print('30 day')\n",
    "    \n",
    "    \n"
   ]
  },
  {
   "cell_type": "code",
   "execution_count": 31,
   "id": "c1a8814a-e7b1-4735-8e0c-ead9a836fcd7",
   "metadata": {},
   "outputs": [
    {
     "name": "stdin",
     "output_type": "stream",
     "text": [
      " 17\n"
     ]
    },
    {
     "name": "stdout",
     "output_type": "stream",
     "text": [
      "year 0\n",
      "week 2\n",
      "day 3\n"
     ]
    }
   ],
   "source": [
    "a=int(input())\n",
    "y,w,d=0,0,0\n",
    "if a>365:\n",
    "    y=a//365\n",
    "    if a>=372:\n",
    "        w=(a-365)//7\n",
    "        d=a-(7*w)\n",
    "    else:\n",
    "        w=0\n",
    "        d=a%365\n",
    "elif a==365 :\n",
    "    y,w,d=1,0,0\n",
    "elif a==0:\n",
    "    y,w,d=0,0,0\n",
    "else:\n",
    "    y=0\n",
    "    w=a//7\n",
    "    d=a-(7*w)\n",
    "print('year',y)\n",
    "print('week',w)\n",
    "print('day',d)"
   ]
  },
  {
   "cell_type": "code",
   "execution_count": 12,
   "id": "ccb7dcba-50ab-43f4-bccd-3c3a7296b189",
   "metadata": {},
   "outputs": [
    {
     "name": "stdout",
     "output_type": "stream",
     "text": [
      "A\n",
      "97\n"
     ]
    }
   ],
   "source": [
    "#A-Z 65-90 mã ascii\n",
    "#a-z 97-122\n",
    "#0-9 48-57\n",
    "'''\n",
    "chuyển từ mã sang chữ cái dùng chr\n",
    "chuyển từ chữ cái sang mã dùng ord\n",
    "'''\n",
    "print(chr(65))\n",
    "print(ord('a'))\n",
    "#bài 16"
   ]
  },
  {
   "cell_type": "code",
   "execution_count": 20,
   "id": "8dcf6c1b-29b7-48b0-9c88-62eb5a46f8d9",
   "metadata": {},
   "outputs": [
    {
     "name": "stdin",
     "output_type": "stream",
     "text": [
      " A\n"
     ]
    },
    {
     "name": "stdout",
     "output_type": "stream",
     "text": [
      "a\n",
      "b\n"
     ]
    }
   ],
   "source": [
    "a=input()\n",
    "b=a.lower()\n",
    "print(b)\n",
    "if b=='z':\n",
    "    print('a')\n",
    "else:\n",
    "    print(chr(ord(b)+1))"
   ]
  },
  {
   "cell_type": "code",
   "execution_count": 38,
   "id": "42fce2c1-c8a4-4b07-924b-42bb627cf103",
   "metadata": {},
   "outputs": [
    {
     "name": "stdin",
     "output_type": "stream",
     "text": [
      " D\n"
     ]
    },
    {
     "name": "stdout",
     "output_type": "stream",
     "text": [
      "upper\n"
     ]
    }
   ],
   "source": [
    "a=input()\n",
    "if a.isdigit():\n",
    "    print('digit')\n",
    "elif  a.islower():\n",
    "    print('lower')\n",
    "elif a.isupper():\n",
    "    print('upper')\n",
    "else:\n",
    "    print('special')\n",
    "    "
   ]
  },
  {
   "cell_type": "code",
   "execution_count": 46,
   "id": "5a1ce69e-2cac-4c5d-a511-aceadba76a69",
   "metadata": {},
   "outputs": [
    {
     "name": "stdin",
     "output_type": "stream",
     "text": [
      " D\n"
     ]
    },
    {
     "name": "stdout",
     "output_type": "stream",
     "text": [
      "d\n"
     ]
    }
   ],
   "source": [
    "a=input()\n",
    "if a.islower():\n",
    "    print(a.upper())\n",
    "elif a.isupper():\n",
    "    print(a.lower())\n",
    "else:\n",
    "    print(a)\n",
    "    "
   ]
  },
  {
   "cell_type": "code",
   "execution_count": 48,
   "id": "e091f17b-9b73-477b-a051-599dbbf78686",
   "metadata": {},
   "outputs": [
    {
     "name": "stdin",
     "output_type": "stream",
     "text": [
      " 5 6 2\n"
     ]
    },
    {
     "name": "stdout",
     "output_type": "stream",
     "text": [
      "35\n"
     ]
    }
   ],
   "source": [
    "n,m,a=map(int,input().split())\n",
    "if n%a==0 and m%a==0:\n",
    "    print(n*m)\n",
    "elif (n%a==0 and m%a!=0) or (n%a!=0 and m%a==0):\n",
    "    print(n*(m+1))\n",
    "elif  m%a!=0 and   n%a!=0:\n",
    "    print((n+1)*(m+1))\n",
    "    "
   ]
  },
  {
   "cell_type": "code",
   "execution_count": 50,
   "id": "fb2cf197-c9f4-42c0-bb21-0d887de1988c",
   "metadata": {},
   "outputs": [
    {
     "name": "stdin",
     "output_type": "stream",
     "text": [
      " 5 2 3 \n"
     ]
    },
    {
     "name": "stdout",
     "output_type": "stream",
     "text": [
      "8\n"
     ]
    }
   ],
   "source": [
    "a,b,k=map(int,input().split())\n",
    "x=0\n",
    "if k==0:\n",
    "    x==0\n",
    "elif a==b:\n",
    "    if k==0:\n",
    "        x==0\n",
    "    elif k%2==0:\n",
    "        x==0\n",
    "    else:\n",
    "        x==a\n",
    "elif a>b:\n",
    "    if k%2==0:\n",
    "        x=(k/2)*(a-b)\n",
    "    else:\n",
    "        x=(k//2)*(a-b)+a\n",
    "else:\n",
    "    if k%2==0:\n",
    "        x=(k/2)*(b-a)\n",
    "    else:\n",
    "        x=(k//2)*(b-a)+b\n",
    "print(x)        "
   ]
  },
  {
   "cell_type": "code",
   "execution_count": 58,
   "id": "9bd0f93b-2a03-43f5-b368-b859138995bf",
   "metadata": {},
   "outputs": [
    {
     "name": "stdin",
     "output_type": "stream",
     "text": [
      " 6 35\n"
     ]
    },
    {
     "name": "stdout",
     "output_type": "stream",
     "text": [
      "6\n"
     ]
    }
   ],
   "source": [
    "n,S=map(int,input().split())\n",
    "if S % n==0:\n",
    "    print(S // n)\n",
    "else:\n",
    "    print((S // n)+1)"
   ]
  },
  {
   "cell_type": "code",
   "execution_count": 2,
   "id": "19dcf68b-4ab7-4dea-a92e-c1586479bcbf",
   "metadata": {},
   "outputs": [
    {
     "name": "stdin",
     "output_type": "stream",
     "text": [
      " 3455\n"
     ]
    },
    {
     "name": "stdout",
     "output_type": "stream",
     "text": [
      "38\n"
     ]
    }
   ],
   "source": [
    "#bài 25\n",
    "a=int(input())\n",
    "b=a//100\n",
    "c=(a%100)//20\n",
    "d=((a%100)%20)//10\n",
    "e=(((a%100)%20)%10)//5\n",
    "f=((((a%100)%20)%10)%5)\n",
    "print(b+c+d+e+f)"
   ]
  },
  {
   "cell_type": "code",
   "execution_count": 8,
   "id": "c0786569-7966-40be-aab7-0f992c8cc01a",
   "metadata": {},
   "outputs": [
    {
     "name": "stdin",
     "output_type": "stream",
     "text": [
      " 100\n"
     ]
    },
    {
     "name": "stdout",
     "output_type": "stream",
     "text": [
      "4950\n"
     ]
    }
   ],
   "source": [
    "#tổ hợp chập 2 của n\n",
    "n=int(input())\n",
    "print((n*(n-1))//2)"
   ]
  },
  {
   "cell_type": "code",
   "execution_count": 24,
   "id": "6dcb11a5-517a-4332-ba2a-8bc42a05fe2b",
   "metadata": {},
   "outputs": [
    {
     "data": {
      "text/plain": [
       "9"
      ]
     },
     "execution_count": 24,
     "metadata": {},
     "output_type": "execute_result"
    }
   ],
   "source": [
    "int(9.9)"
   ]
  },
  {
   "cell_type": "code",
   "execution_count": null,
   "id": "af82154c-8e0c-4577-9076-a902115eef46",
   "metadata": {},
   "outputs": [],
   "source": []
  }
 ],
 "metadata": {
  "kernelspec": {
   "display_name": "Python 3 (ipykernel)",
   "language": "python",
   "name": "python3"
  },
  "language_info": {
   "codemirror_mode": {
    "name": "ipython",
    "version": 3
   },
   "file_extension": ".py",
   "mimetype": "text/x-python",
   "name": "python",
   "nbconvert_exporter": "python",
   "pygments_lexer": "ipython3",
   "version": "3.12.7"
  }
 },
 "nbformat": 4,
 "nbformat_minor": 5
}
