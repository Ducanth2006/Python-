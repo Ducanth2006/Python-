{
 "cells": [
  {
   "cell_type": "code",
   "execution_count": 13,
   "id": "803888af-ad77-465e-a69d-d1121d8c3d3d",
   "metadata": {
    "collapsed": true,
    "jupyter": {
     "outputs_hidden": true
    }
   },
   "outputs": [
    {
     "name": "stdout",
     "output_type": "stream",
     "text": [
      "2948.855\n",
      "2948.85\n"
     ]
    }
   ],
   "source": [
    "a=2948.8545889\n",
    "print('%.3f'%a)\n",
    "print('{:.2f}'.format(a))"
   ]
  },
  {
   "cell_type": "code",
   "execution_count": 19,
   "id": "90e5bd66-7381-4b48-a462-a972ac3e3ef9",
   "metadata": {
    "jupyter": {
     "source_hidden": true
    }
   },
   "outputs": [
    {
     "name": "stdout",
     "output_type": "stream",
     "text": [
      "14.28571\n",
      "14.2857143\n"
     ]
    }
   ],
   "source": [
    "ab=100/7\n",
    "print('%.5f'%ab)\n",
    "print('{:.7f}'.format(ab))\n"
   ]
  },
  {
   "cell_type": "code",
   "execution_count": 25,
   "id": "c4fcf643-a5bb-4604-b624-be96db330a31",
   "metadata": {},
   "outputs": [
    {
     "name": "stdout",
     "output_type": "stream",
     "text": [
      "14.2857\n",
      "14.285714286\n",
      "14.28571429\n",
      "14.286\n"
     ]
    }
   ],
   "source": [
    "print('%.4f'%ab)\n",
    "print('{:.9f}'.format(ab))\n",
    "print('%.8f'%ab)\n",
    "print('{:.3f}'.format(ab))"
   ]
  },
  {
   "cell_type": "code",
   "execution_count": 31,
   "id": "c36cbe1b-ac15-45b7-8b46-d0424cca6094",
   "metadata": {},
   "outputs": [
    {
     "name": "stdin",
     "output_type": "stream",
     "text": [
      " 5\n"
     ]
    },
    {
     "name": "stdout",
     "output_type": "stream",
     "text": [
      "2.24\n",
      "1.710\n"
     ]
    }
   ],
   "source": [
    "from math import*\n",
    "a=int(input())\n",
    "b=sqrt(a)\n",
    "c=a**(1/3)\n",
    "print('%.2f'%b)\n",
    "print('{:.3f}'.format(c))\n",
    "# xong bài 5"
   ]
  },
  {
   "cell_type": "code",
   "execution_count": 4,
   "id": "c2e2f87e-3e25-442f-a10a-7636e5fe49ca",
   "metadata": {},
   "outputs": [
    {
     "name": "stdin",
     "output_type": "stream",
     "text": [
      " 3.9584\n"
     ]
    },
    {
     "name": "stdout",
     "output_type": "stream",
     "text": [
      "số nguyên theo hàm ceil là  4\n",
      "số theo hàm floor là  3\n",
      "số theo hàm round là  4\n"
     ]
    }
   ],
   "source": [
    "from math import*\n",
    "a=float(input())\n",
    "print('số nguyên theo hàm ceil là ',ceil(a))\n",
    "print('số theo hàm floor là ',floor(a))\n",
    "print('số theo hàm round là ',round(a))"
   ]
  },
  {
   "cell_type": "code",
   "execution_count": 16,
   "id": "da12d912-8161-4483-8ece-fc067e24bbda",
   "metadata": {},
   "outputs": [
    {
     "name": "stdin",
     "output_type": "stream",
     "text": [
      " 1508\n"
     ]
    },
    {
     "name": "stdout",
     "output_type": "stream",
     "text": [
      "8\n",
      "8\n"
     ]
    }
   ],
   "source": [
    "a=int(input())\n",
    "print(a%10)\n",
    "b=a%100\n",
    "if b>=10:\n",
    "    print(b)\n",
    "else:\n",
    "    print(b%10)"
   ]
  },
  {
   "cell_type": "code",
   "execution_count": 18,
   "id": "8215f4d7-bf1d-4a66-8235-c66a28714739",
   "metadata": {},
   "outputs": [
    {
     "name": "stdin",
     "output_type": "stream",
     "text": [
      " 30 70\n"
     ]
    },
    {
     "name": "stdout",
     "output_type": "stream",
     "text": [
      "2\n",
      "2.33\n"
     ]
    }
   ],
   "source": [
    "a,b=map(int,input().split())\n",
    "print(b//a)\n",
    "print('{:.2f}'.format(b/a))"
   ]
  },
  {
   "cell_type": "code",
   "execution_count": 34,
   "id": "67f69c59-52df-467f-9b73-bdf580c99e19",
   "metadata": {},
   "outputs": [
    {
     "name": "stdin",
     "output_type": "stream",
     "text": [
      "nhập sô 1234567\n"
     ]
    },
    {
     "name": "stdout",
     "output_type": "stream",
     "text": [
      "1234\n"
     ]
    }
   ],
   "source": [
    "# cách 1\n",
    "a=input('nhập sô')\n",
    "b=a[:len(a)-3]\n",
    "print(int(b))"
   ]
  },
  {
   "cell_type": "code",
   "execution_count": 48,
   "id": "204acf30-5abf-40dd-aaa1-a5910bf6a4e4",
   "metadata": {},
   "outputs": [
    {
     "name": "stdin",
     "output_type": "stream",
     "text": [
      " 1234567\n"
     ]
    },
    {
     "name": "stdout",
     "output_type": "stream",
     "text": [
      "1234\n"
     ]
    }
   ],
   "source": [
    "#cách 2 LẤY DÙNG % CÒN BỎ THÌ DÙNG //\n",
    "a=int(input())\n",
    "print(a//1000)"
   ]
  },
  {
   "cell_type": "code",
   "execution_count": 38,
   "id": "a7f53590-6496-4cf8-95da-2e05e407777d",
   "metadata": {},
   "outputs": [
    {
     "name": "stdin",
     "output_type": "stream",
     "text": [
      " 805 604\n"
     ]
    },
    {
     "name": "stdout",
     "output_type": "stream",
     "text": [
      "201\n"
     ]
    }
   ],
   "source": [
    "a,b=map(int,input().split())\n",
    "print(a%b)\n",
    "#xong bài 10"
   ]
  }
 ],
 "metadata": {
  "kernelspec": {
   "display_name": "Python 3 (ipykernel)",
   "language": "python",
   "name": "python3"
  },
  "language_info": {
   "codemirror_mode": {
    "name": "ipython",
    "version": 3
   },
   "file_extension": ".py",
   "mimetype": "text/x-python",
   "name": "python",
   "nbconvert_exporter": "python",
   "pygments_lexer": "ipython3",
   "version": "3.12.7"
  }
 },
 "nbformat": 4,
 "nbformat_minor": 5
}
