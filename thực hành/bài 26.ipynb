{
 "cells": [
  {
   "cell_type": "code",
   "execution_count": 57,
   "id": "e0dba5fb-e36c-46e4-9b65-7b1951e2b1c4",
   "metadata": {},
   "outputs": [
    {
     "name": "stdin",
     "output_type": "stream",
     "text": [
      " 5 8 28\n"
     ]
    },
    {
     "name": "stdout",
     "output_type": "stream",
     "text": [
      "yes\n"
     ]
    }
   ],
   "source": [
    "# tìm x,y nguyên dương thỏa mãn ax+by=n\n",
    "a,b,n=map(int,input().split())\n",
    "s=False\n",
    "for i in range(0,n//a+1):\n",
    "    if (n-a*i)%b==0:\n",
    "        if (n-a*i)%b>=0:\n",
    "            s=True\n",
    "            break\n",
    "\n",
    "    \n",
    "if s:\n",
    "    print('yes')\n",
    "else:\n",
    "    print('no')\n",
    "        "
   ]
  },
  {
   "cell_type": "code",
   "execution_count": 66,
   "id": "60034acf-ec63-4ad2-8af2-9a29d5fc08ca",
   "metadata": {},
   "outputs": [
    {
     "name": "stdin",
     "output_type": "stream",
     "text": [
      " 278\n"
     ]
    },
    {
     "name": "stdout",
     "output_type": "stream",
     "text": [
      "8\n"
     ]
    }
   ],
   "source": [
    "#tìm só cuối cùng bằng cách cộng các chữ số ban đầu cho tôi khi còn một chữ số rút gọn duy nhất\n",
    "#cách 1\n",
    "a=input()\n",
    "b=len(a)\n",
    "s=0\n",
    "\n",
    "while s<b:\n",
    "    for i in a:\n",
    "        k+=int(i)\n",
    "    \n",
    "    d=k\n",
    "    k=0\n",
    "    a=str(d)\n",
    "    s+=1\n",
    "print(int(d))    "
   ]
  },
  {
   "cell_type": "code",
   "execution_count": 74,
   "id": "6a99188b-b089-4bbf-820b-313f1237da72",
   "metadata": {},
   "outputs": [
    {
     "name": "stdin",
     "output_type": "stream",
     "text": [
      " 278\n"
     ]
    },
    {
     "name": "stdout",
     "output_type": "stream",
     "text": [
      "8\n"
     ]
    }
   ],
   "source": [
    "#cách 2 tôi ưu clean code hơn\n",
    "a=int(input())\n",
    "sum=0\n",
    "while a>=10:\n",
    "    sum=0\n",
    "    while a!=0:\n",
    "        sum+=a%10\n",
    "        a//=10\n",
    "    a=sum\n",
    "print(a)#print(sum) cx đc     "
   ]
  },
  {
   "cell_type": "code",
   "execution_count": 80,
   "id": "14edcb9a-4057-461e-8f19-c51732dd5bf9",
   "metadata": {},
   "outputs": [
    {
     "name": "stdin",
     "output_type": "stream",
     "text": [
      " 5\n"
     ]
    },
    {
     "name": "stdout",
     "output_type": "stream",
     "text": [
      "153\n"
     ]
    }
   ],
   "source": [
    "import math \n",
    "n=int(input())\n",
    "s=0\n",
    "for i in range(1,n+1):\n",
    "    s+=math.factorial(i)\n",
    "print(s)    \n"
   ]
  },
  {
   "cell_type": "code",
   "execution_count": 1,
   "id": "df67250e-98df-497a-bac4-6711ef4f1516",
   "metadata": {},
   "outputs": [
    {
     "name": "stdin",
     "output_type": "stream",
     "text": [
      " 3\n",
      " 2\n"
     ]
    },
    {
     "name": "stdout",
     "output_type": "stream",
     "text": [
      "even\n"
     ]
    },
    {
     "name": "stdin",
     "output_type": "stream",
     "text": [
      " 3\n"
     ]
    },
    {
     "name": "stdout",
     "output_type": "stream",
     "text": [
      "odd\n"
     ]
    },
    {
     "name": "stdin",
     "output_type": "stream",
     "text": [
      " 4\n"
     ]
    },
    {
     "name": "stdout",
     "output_type": "stream",
     "text": [
      "even\n"
     ]
    },
    {
     "name": "stdin",
     "output_type": "stream",
     "text": [
      " 3\n"
     ]
    },
    {
     "name": "stdout",
     "output_type": "stream",
     "text": [
      "odd\n"
     ]
    }
   ],
   "source": [
    "t=int(input())\n",
    "for _ in range(t+1):\n",
    "    n=int(input())\n",
    "    if n%2==0:\n",
    "        print('even')\n",
    "    else:\n",
    "        print('odd')\n",
    "        "
   ]
  },
  {
   "cell_type": "code",
   "execution_count": null,
   "id": "2c7d6622-658d-41df-82d9-3b298ab1ed22",
   "metadata": {},
   "outputs": [],
   "source": []
  }
 ],
 "metadata": {
  "kernelspec": {
   "display_name": "Python 3 (ipykernel)",
   "language": "python",
   "name": "python3"
  },
  "language_info": {
   "codemirror_mode": {
    "name": "ipython",
    "version": 3
   },
   "file_extension": ".py",
   "mimetype": "text/x-python",
   "name": "python",
   "nbconvert_exporter": "python",
   "pygments_lexer": "ipython3",
   "version": "3.12.4"
  }
 },
 "nbformat": 4,
 "nbformat_minor": 5
}
