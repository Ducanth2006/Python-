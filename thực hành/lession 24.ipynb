{
 "cells": [
  {
   "cell_type": "code",
   "execution_count": 21,
   "id": "9dd91811-7b35-4188-bb6e-5e6018e41a6b",
   "metadata": {},
   "outputs": [
    {
     "name": "stdin",
     "output_type": "stream",
     "text": [
      " 1234\n"
     ]
    },
    {
     "name": "stdout",
     "output_type": "stream",
     "text": [
      "a có số ký tự là  4\n",
      "4\n"
     ]
    }
   ],
   "source": [
    "#đếm số lượng chữ số n không sử dụng len\n",
    "a=input()\n",
    "s=0\n",
    "for i in a:\n",
    "    s+=1\n",
    "print('a có số ký tự là ',s)\n",
    "# cách 2 dùng while\n",
    "c=int(a)\n",
    "q=0\n",
    "while c!=0:\n",
    "    q+=1\n",
    "    c//=10\n",
    "print(q)    "
   ]
  },
  {
   "cell_type": "code",
   "execution_count": 23,
   "id": "24172454-bd40-4b48-9c23-156eb85511d0",
   "metadata": {},
   "outputs": [
    {
     "name": "stdin",
     "output_type": "stream",
     "text": [
      " 223\n"
     ]
    },
    {
     "name": "stdout",
     "output_type": "stream",
     "text": [
      "7\n"
     ]
    }
   ],
   "source": [
    "#đếm tổng chữ số của n\n",
    "a=int(input())\n",
    "s=0\n",
    "while a!=0:\n",
    "    s+=a%10\n",
    "    a//=10\n",
    "print(s)    "
   ]
  },
  {
   "cell_type": "code",
   "execution_count": 29,
   "id": "72fd8fe6-0f31-4d37-bf7d-35ecdf823c28",
   "metadata": {},
   "outputs": [
    {
     "name": "stdin",
     "output_type": "stream",
     "text": [
      " 112233\n"
     ]
    },
    {
     "name": "stdout",
     "output_type": "stream",
     "text": [
      "4\n"
     ]
    }
   ],
   "source": [
    "#đếm số lượng số nguyên tố trong các chữ số n\n",
    "a=int(input())\n",
    "s=0\n",
    "while a!=0:\n",
    "    d=a%10\n",
    "    if d in [2,3,5,7]:\n",
    "        s+=1\n",
    "    a//=10\n",
    "print(s)    \n",
    "        "
   ]
  },
  {
   "cell_type": "code",
   "execution_count": 37,
   "id": "84e5d1ba-83be-49ef-aa0c-0d6585de2abb",
   "metadata": {},
   "outputs": [
    {
     "name": "stdin",
     "output_type": "stream",
     "text": [
      " 138\n"
     ]
    },
    {
     "name": "stdout",
     "output_type": "stream",
     "text": [
      "5\n"
     ]
    }
   ],
   "source": [
    "# cho n xu. 28 xu =1 bia. 3 vỏ =1 bia tính số bia sau khi mua và đổi vỏ\n",
    "n=int(input())\n",
    "bia=0\n",
    "if n%28==0:\n",
    "    bia = n/28\n",
    "    if bia % 3==0:\n",
    "        bia += bia % 3\n",
    "    else:\n",
    "        bia+=bia //3\n",
    "else:\n",
    "    bia=n//28\n",
    "    if bia % 3==0:\n",
    "        bia += bia % 3\n",
    "    else:\n",
    "        bia+=bia //3\n",
    "print(bia)        \n",
    "# thiếu số bia sau khi đổi vỏ qua các lần đổi tiếp theo     "
   ]
  },
  {
   "cell_type": "code",
   "execution_count": 39,
   "id": "12a32ca2-529c-4318-a1b1-e33dd85ec675",
   "metadata": {},
   "outputs": [
    {
     "name": "stdin",
     "output_type": "stream",
     "text": [
      " 138\n"
     ]
    },
    {
     "name": "stdout",
     "output_type": "stream",
     "text": [
      "5\n"
     ]
    }
   ],
   "source": [
    "n = int(input())\n",
    "bia = n // 28  # Số bia mua được ban đầu\n",
    "vo = bia  # Số vỏ bia hiện có\n",
    "\n",
    "while vo >= 3:  # Đổi vỏ lấy bia cho đến khi không thể đổi nữa\n",
    "    doi = vo // 3  # Số bia đổi được\n",
    "    bia += doi  # Cộng số bia mới\n",
    "    vo = vo % 3 + doi  # Cập nhật số vỏ còn lại\n",
    "\n",
    "print(bia)\n"
   ]
  },
  {
   "cell_type": "code",
   "execution_count": 57,
   "id": "bd85eeee-0703-4031-8118-b261996a01e7",
   "metadata": {},
   "outputs": [
    {
     "name": "stdin",
     "output_type": "stream",
     "text": [
      " 22\n"
     ]
    },
    {
     "name": "stdout",
     "output_type": "stream",
     "text": [
      "11\n",
      "2 2 2 2 2 2 2 2 2 2 2 "
     ]
    }
   ],
   "source": [
    "# nhập số n phân tích nó theo các số nguyên tố \n",
    "a= int(input())\n",
    "if a==1:\n",
    "    print(-1)\n",
    "elif a%2==0:\n",
    "    print(a//2)\n",
    "    for i in range(1,a//2+1):\n",
    "        print(2,end=' ')\n",
    "else:\n",
    "    print(a//2+1)\n",
    "    for i in range(0,a//2-1):\n",
    "        print(2,end=' ')\n",
    "    print(3)\n",
    "    \n",
    "    "
   ]
  },
  {
   "cell_type": "code",
   "execution_count": null,
   "id": "ce26d3d9-bd49-4a8a-9c23-30f489cd7858",
   "metadata": {},
   "outputs": [],
   "source": []
  }
 ],
 "metadata": {
  "kernelspec": {
   "display_name": "Python 3 (ipykernel)",
   "language": "python",
   "name": "python3"
  },
  "language_info": {
   "codemirror_mode": {
    "name": "ipython",
    "version": 3
   },
   "file_extension": ".py",
   "mimetype": "text/x-python",
   "name": "python",
   "nbconvert_exporter": "python",
   "pygments_lexer": "ipython3",
   "version": "3.12.7"
  }
 },
 "nbformat": 4,
 "nbformat_minor": 5
}
