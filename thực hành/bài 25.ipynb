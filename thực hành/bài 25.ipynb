{
 "cells": [
  {
   "cell_type": "code",
   "execution_count": 32,
   "id": "b1582795-45d2-4e59-96dd-dc02dd4c7b30",
   "metadata": {},
   "outputs": [
    {
     "name": "stdin",
     "output_type": "stream",
     "text": [
      " 5\n"
     ]
    },
    {
     "name": "stdout",
     "output_type": "stream",
     "text": [
      "*****\n",
      "*****\n",
      "*****\n",
      "*****\n",
      "*****\n",
      "\n",
      "*****\n",
      "*   *\n",
      "*   *\n",
      "*   *\n",
      "*****\n",
      "\n",
      "*****\n",
      "*###*\n",
      "*###*\n",
      "*###*\n",
      "*****\n",
      "\n",
      "11111\n",
      "2   2\n",
      "3   3\n",
      "4   4\n",
      "55555\n"
     ]
    }
   ],
   "source": [
    "a=int(input())\n",
    "sum=0\n",
    "\n",
    "for i in range (a):\n",
    "    sum+=1\n",
    "print('*'*sum)\n",
    "for i in range (sum-1):\n",
    "    print('*'*sum)\n",
    "print('')    \n",
    "print('*'*sum)\n",
    "for i in range (sum-2):\n",
    "    print('*'+ ' '*(sum-2)+'*')\n",
    "print('*'*sum) \n",
    "print('')\n",
    "print('*'*sum)\n",
    "for i in range (sum-2):\n",
    "    print('*'+ '#'*(sum-2)+'*')\n",
    "print('*'*sum)\n",
    "print('')\n",
    "print('1'*sum)\n",
    "for i in range(2,sum):\n",
    "    print('%.f'%i+' '*(sum-2)+'%.f'%i)\n",
    "print('{}'.format(sum)*sum)\n",
    "    \n",
    "    "
   ]
  },
  {
   "cell_type": "code",
   "execution_count": 34,
   "id": "534b81d5-426e-4ec0-b496-d1c61012a333",
   "metadata": {},
   "outputs": [],
   "source": [
    "#bài tìm số ước chung lớn nhất của 2 giai thừa khá dễ cần làm"
   ]
  },
  {
   "cell_type": "code",
   "execution_count": null,
   "id": "b808510b-8fbf-4dbf-83ef-a69fbc8d6f57",
   "metadata": {},
   "outputs": [],
   "source": []
  }
 ],
 "metadata": {
  "kernelspec": {
   "display_name": "Python 3 (ipykernel)",
   "language": "python",
   "name": "python3"
  },
  "language_info": {
   "codemirror_mode": {
    "name": "ipython",
    "version": 3
   },
   "file_extension": ".py",
   "mimetype": "text/x-python",
   "name": "python",
   "nbconvert_exporter": "python",
   "pygments_lexer": "ipython3",
   "version": "3.12.4"
  }
 },
 "nbformat": 4,
 "nbformat_minor": 5
}
