{
 "cells": [
  {
   "cell_type": "code",
   "execution_count": 1,
   "id": "ccb0ceea-4642-4ddb-bf48-545b46ce6969",
   "metadata": {},
   "outputs": [
    {
     "name": "stdin",
     "output_type": "stream",
     "text": [
      "Nhập số nguyên dương:  26\n"
     ]
    },
    {
     "name": "stdout",
     "output_type": "stream",
     "text": [
      "Số ước của 26 là: 4\n"
     ]
    }
   ],
   "source": [
    "# tối ưu đếm số ước 26=(2^1)*(13^1) số ước sẽ bằng mũ của số nguyên tố thứ nhất+1 * mũ số nguyên tố  2 +1= (1+1)*(1+1)=4\n",
    "def demsouoc(n):\n",
    "    uoc = 1\n",
    "    mu = 0  \n",
    "\n",
    "    # Xử lý số 2 trước\n",
    "    while n % 2 == 0:\n",
    "        n //= 2\n",
    "        mu += 1\n",
    "    if mu > 0:\n",
    "        uoc *= (mu + 1)\n",
    "\n",
    "    # Xét các số lẻ từ 3 đến sqrt(n)\n",
    "    i = 3\n",
    "    while i * i <= n:\n",
    "        mu = 0  # Reset lại số mũ khi xét số mới\n",
    "        while n % i == 0:\n",
    "            n //= i\n",
    "            mu += 1\n",
    "        if mu > 0:\n",
    "            uoc *= (mu + 1)\n",
    "        i += 2  \n",
    "\n",
    "    # Nếu còn lại là số nguyên tố lớn hơn 1\n",
    "    if n > 1:\n",
    "        uoc *= 2  \n",
    "\n",
    "    return uoc\n",
    "\n",
    "# Chạy thử\n",
    "if __name__ == '__main__':\n",
    "    a = int(input(\"Nhập số nguyên dương: \"))\n",
    "    print(\"Số ước của\", a, \"là:\", demsouoc(a))"
   ]
  },
  {
   "cell_type": "code",
   "execution_count": 33,
   "id": "12d6b4ae-8304-4078-8b2c-dd6db9a30a4d",
   "metadata": {},
   "outputs": [
    {
     "name": "stdin",
     "output_type": "stream",
     "text": [
      " 26\n"
     ]
    },
    {
     "name": "stdout",
     "output_type": "stream",
     "text": [
      "4\n"
     ]
    }
   ],
   "source": [
    "# cách bình thường đếm số nhỏ \n",
    "def dem(n):\n",
    "    uoc=0\n",
    "    for i in range(1,int(n**(1/2))+1):\n",
    "        if n%i==0:\n",
    "            uoc+=1\n",
    "            if i!= n//i:#kiểm tra điều kiện khi n là số chính phương\n",
    "                uoc+=1\n",
    "    return uoc \n",
    "\n",
    "\n",
    "if __name__=='__main__':\n",
    "    a=int(input())\n",
    "    \n",
    "    print(dem(a))\n",
    "\n"
   ]
  },
  {
   "cell_type": "code",
   "execution_count": null,
   "id": "d9692ee6-e6dc-4819-97a5-b11957ab9ca2",
   "metadata": {},
   "outputs": [],
   "source": []
  }
 ],
 "metadata": {
  "kernelspec": {
   "display_name": "Python 3 (ipykernel)",
   "language": "python",
   "name": "python3"
  },
  "language_info": {
   "codemirror_mode": {
    "name": "ipython",
    "version": 3
   },
   "file_extension": ".py",
   "mimetype": "text/x-python",
   "name": "python",
   "nbconvert_exporter": "python",
   "pygments_lexer": "ipython3",
   "version": "3.12.4"
  }
 },
 "nbformat": 4,
 "nbformat_minor": 5
}
