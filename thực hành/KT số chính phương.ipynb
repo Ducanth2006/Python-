{
 "cells": [
  {
   "cell_type": "code",
   "execution_count": 6,
   "id": "bd000b05-2d2b-410c-bd38-bf93efd0517d",
   "metadata": {},
   "outputs": [
    {
     "name": "stdin",
     "output_type": "stream",
     "text": [
      " 22\n"
     ]
    },
    {
     "name": "stdout",
     "output_type": "stream",
     "text": [
      "no\n"
     ]
    }
   ],
   "source": [
    "import math \n",
    "def ktcp(a):\n",
    "    can =math.isqrt(a)#nếu muốn sáng tạo thêm thì dùng hàm round\n",
    "    if a==can*can:\n",
    "        return True\n",
    "    else:\n",
    "        return False\n",
    "\n",
    "if __name__=='__main__':\n",
    "    a=int(input())\n",
    "    if ktcp(a):\n",
    "        print('Yes')\n",
    "    else:\n",
    "        print('no')\n",
    "    "
   ]
  },
  {
   "cell_type": "code",
   "execution_count": null,
   "id": "a38befa6-ea0b-4f39-bf79-b60950d4d07f",
   "metadata": {},
   "outputs": [],
   "source": []
  }
 ],
 "metadata": {
  "kernelspec": {
   "display_name": "Python 3 (ipykernel)",
   "language": "python",
   "name": "python3"
  },
  "language_info": {
   "codemirror_mode": {
    "name": "ipython",
    "version": 3
   },
   "file_extension": ".py",
   "mimetype": "text/x-python",
   "name": "python",
   "nbconvert_exporter": "python",
   "pygments_lexer": "ipython3",
   "version": "3.12.4"
  }
 },
 "nbformat": 4,
 "nbformat_minor": 5
}
