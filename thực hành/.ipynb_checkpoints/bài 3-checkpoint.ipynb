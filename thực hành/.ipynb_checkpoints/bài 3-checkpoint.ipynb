{
 "cells": [
  {
   "cell_type": "code",
   "execution_count": 19,
   "id": "61649360-1459-466c-b637-d9823d1d6c58",
   "metadata": {},
   "outputs": [
    {
     "name": "stdin",
     "output_type": "stream",
     "text": [
      " 19 6\n"
     ]
    },
    {
     "name": "stdout",
     "output_type": "stream",
     "text": [
      "12\n"
     ]
    }
   ],
   "source": [
    "#bài 23\n",
    "n,m=map(int,input().split())\n",
    "\n",
    "x=(((n//2)+(n%2)+m-1)//m)*m\n",
    "if x>n:\n",
    "    print(-1)\n",
    "else:\n",
    "    \n",
    "    print(x)\n",
    "#công thức tính x lớn hơn bằng a và x chia hết cho b\n",
    "#x=((a+b-1)//b)*b\n",
    "    \n",
    "    "
   ]
  },
  {
   "cell_type": "code",
   "execution_count": 3,
   "id": "462e89d7-0925-4ad0-994e-012179212b0e",
   "metadata": {},
   "outputs": [
    {
     "name": "stdin",
     "output_type": "stream",
     "text": [
      " 199 200 200 99\n"
     ]
    },
    {
     "name": "stdout",
     "output_type": "stream",
     "text": [
      "200\n",
      "99\n"
     ]
    }
   ],
   "source": [
    "#bài =26\n",
    "a,b,c,d=map(int,input().split())\n",
    "print(max(a,b,c,d))\n",
    "print(min(a,b,c,d))\n"
   ]
  },
  {
   "cell_type": "code",
   "execution_count": 11,
   "id": "904edfc2-d8e6-4478-aa17-6090bdc8c726",
   "metadata": {},
   "outputs": [
    {
     "name": "stdin",
     "output_type": "stream",
     "text": [
      " 1.5\n"
     ]
    },
    {
     "name": "stdout",
     "output_type": "stream",
     "text": [
      "2\n"
     ]
    }
   ],
   "source": [
    "a=float(input())\n",
    "if a%round(a)==0.5:\n",
    "    print(a+0.5)\n",
    "else:\n",
    "    print(round(a))"
   ]
  },
  {
   "cell_type": "code",
   "execution_count": 13,
   "id": "79f4c6cb-f014-4e9c-976f-75417e0e1d33",
   "metadata": {},
   "outputs": [
    {
     "name": "stdin",
     "output_type": "stream",
     "text": [
      " 3646 662 114\n"
     ]
    },
    {
     "name": "stdout",
     "output_type": "stream",
     "text": [
      "759924842\n"
     ]
    }
   ],
   "source": [
    "#cấp số cộng \n",
    "n,u1,d=map(int,input().split())\n",
    "un= u1+(n-1)*d\n",
    "s=(n*(u1+un))//2\n",
    "print(s)"
   ]
  },
  {
   "cell_type": "code",
   "execution_count": 4,
   "id": "14a2581f-055c-42bd-a448-2c5bdc2c701f",
   "metadata": {},
   "outputs": [
    {
     "name": "stdin",
     "output_type": "stream",
     "text": [
      " 46 76 52\n",
      " 40 60 67\n",
      " 11\n"
     ]
    },
    {
     "name": "stdout",
     "output_type": "stream",
     "text": [
      "no\n"
     ]
    }
   ],
   "source": [
    "#bài 31\n",
    "a1,a2,a3=map(int,input().split())\n",
    "b1,b2,b3=map(int,input().split())\n",
    "n=int(input())\n",
    "if (a1+a2+a3)%5==0:\n",
    "    kecup=(a1+a2+a3)/5\n",
    "else:\n",
    "    kecup=((a1+a2+a3)//5)+1\n",
    "if (b1+b2+b3)%10==0:\n",
    "    kehuy=(b1+b2+b3)/10\n",
    "else:\n",
    "    kehuy=((b1+b2+b3)//10)+1\n",
    "if (kecup+kehuy) <=n:\n",
    "    print('yes')\n",
    "else:\n",
    "    print('no')"
   ]
  },
  {
   "cell_type": "code",
   "execution_count": null,
   "id": "0b1fa0ae-d7df-4109-88ac-2c5584dda733",
   "metadata": {},
   "outputs": [],
   "source": [
    "a,b,c,n=map(int,input().split())\n",
    "d=max(a,b,c)\n",
    "c=min(a,b,c)\n",
    "f=(a+b+c)-(d+c)\n",
    "if a==b  and a==c and b==c:\n",
    "    if n%3==0:\n",
    "        print('yes')\n",
    "    else:\n",
    "        print('no')\n",
    "\n",
    "else:\n",
    "    k1=d-c\n",
    "    k2=d-f\n",
    "    k=k1+k2\n",
    "#video 18    "
   ]
  },
  {
   "cell_type": "code",
   "execution_count": null,
   "id": "2786d6e4-ae6b-40a4-adfb-d15476c3e5cc",
   "metadata": {},
   "outputs": [],
   "source": []
  }
 ],
 "metadata": {
  "kernelspec": {
   "display_name": "Python 3 (ipykernel)",
   "language": "python",
   "name": "python3"
  },
  "language_info": {
   "codemirror_mode": {
    "name": "ipython",
    "version": 3
   },
   "file_extension": ".py",
   "mimetype": "text/x-python",
   "name": "python",
   "nbconvert_exporter": "python",
   "pygments_lexer": "ipython3",
   "version": "3.12.7"
  }
 },
 "nbformat": 4,
 "nbformat_minor": 5
}
