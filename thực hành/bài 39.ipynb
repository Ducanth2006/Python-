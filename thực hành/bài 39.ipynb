{
 "cells": [
  {
   "cell_type": "code",
   "execution_count": 65,
   "id": "99430e44-b1eb-4a91-bc57-6cfe5c88e90c",
   "metadata": {},
   "outputs": [
    {
     "name": "stdin",
     "output_type": "stream",
     "text": [
      " 105\n"
     ]
    },
    {
     "name": "stdout",
     "output_type": "stream",
     "text": [
      "yes\n"
     ]
    }
   ],
   "source": [
    " # số phenic là số được phân tích duy nhất dưới dạng tích 3 thừa số nguyênt tố khác nhau \n",
    "import math \n",
    "def kt3(a):#kiểm tra đủ 3 chữ số \n",
    "    s=0\n",
    "    while a!=0:\n",
    "        s+=1\n",
    "        a//=10\n",
    "    if s==3:\n",
    "        return True\n",
    "    else:\n",
    "        return False\n",
    "        \n",
    "def kt(a):#kiểm tra có lặp lại ko\n",
    "    s=0\n",
    "    for i in range(2,math.isqrt(a)+1):\n",
    "        if a%i==0:\n",
    "            mu=0\n",
    "            while a%i==0:\n",
    "                a//=i\n",
    "                mu+=1\n",
    "            if mu>1:\n",
    "                return False \n",
    "                \n",
    "        else:\n",
    "            return True\n",
    "        \n",
    "def ktphebonic(a):\n",
    "    if kt(a):\n",
    "        s=0\n",
    "        for i in range(2,math.isqrt(a)+1):\n",
    "         if a%i==0:\n",
    "            \n",
    "            while a%i==0:\n",
    "                s+=i\n",
    "                s*=10\n",
    "                a//=i\n",
    "        \n",
    "        if kt3(int(s/10)):\n",
    "                return print('yes')\n",
    "        \n",
    "        else:\n",
    "                return print('no1')        \n",
    "                \n",
    "    else:\n",
    "        return print('no')\n",
    "if __name__=='__main__':\n",
    "    a=int(input())\n",
    "    ktphebonic(a) \n",
    "        \n",
    "            \n",
    "    \n",
    "                "
   ]
  },
  {
   "cell_type": "code",
   "execution_count": 75,
   "id": "ae9f666b-385f-4e8b-ba09-a10a184d6cc1",
   "metadata": {},
   "outputs": [
    {
     "name": "stdin",
     "output_type": "stream",
     "text": [
      " 1 100\n"
     ]
    },
    {
     "name": "stdout",
     "output_type": "stream",
     "text": [
      "4 9 16 25 36 49 64 81 "
     ]
    }
   ],
   "source": [
    "# số chính phương trong đoạn \n",
    "import math\n",
    "\n",
    "a,b=map(int,input().split())\n",
    "for i in range(math.isqrt(a),math.isqrt(b)+1):\n",
    "    if i*i<b and i*i >a:\n",
    "        print(i*i,end=' ')\n",
    "    "
   ]
  },
  {
   "cell_type": "code",
   "execution_count": null,
   "id": "ecac3435-3b9e-4192-984c-b5935e49b772",
   "metadata": {},
   "outputs": [],
   "source": [
    "# bài 10 một số có các tổng  số ước là số lẻ thực chất là kiểm tra chính phương  "
   ]
  }
 ],
 "metadata": {
  "kernelspec": {
   "display_name": "Python 3 (ipykernel)",
   "language": "python",
   "name": "python3"
  },
  "language_info": {
   "codemirror_mode": {
    "name": "ipython",
    "version": 3
   },
   "file_extension": ".py",
   "mimetype": "text/x-python",
   "name": "python",
   "nbconvert_exporter": "python",
   "pygments_lexer": "ipython3",
   "version": "3.12.4"
  }
 },
 "nbformat": 4,
 "nbformat_minor": 5
}
