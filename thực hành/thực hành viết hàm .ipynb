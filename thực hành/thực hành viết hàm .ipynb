{
 "cells": [
  {
   "cell_type": "code",
   "execution_count": 33,
   "id": "16c5745f-0eea-4d88-89fa-a156c6a34c0f",
   "metadata": {},
   "outputs": [
    {
     "name": "stdin",
     "output_type": "stream",
     "text": [
      " 9\n"
     ]
    },
    {
     "name": "stdout",
     "output_type": "stream",
     "text": [
      "0\n"
     ]
    }
   ],
   "source": [
    "# kt số nguyên tôs\n",
    "import math \n",
    "def tinh(a):\n",
    "    if a <2:\n",
    "        return False\n",
    "    elif a==2:\n",
    "        return True\n",
    "    else:\n",
    "        s=0\n",
    "        for i in range(2,math.isqrt(a)+1):\n",
    "\n",
    "            if a%i==0:\n",
    "               s+=1\n",
    "\n",
    "        if s>0:\n",
    "            return False\n",
    "        else:\n",
    "            return True\n",
    "        \n",
    "if __name__=='__main__':\n",
    "    a=int(input())\n",
    "    if tinh(a):\n",
    "        print(1)\n",
    "    else:\n",
    "        print(0)\n"
   ]
  },
  {
   "cell_type": "code",
   "execution_count": 13,
   "id": "9ecc8e95-190f-4545-a038-f78652f506b6",
   "metadata": {},
   "outputs": [
    {
     "name": "stdin",
     "output_type": "stream",
     "text": [
      " 123\n"
     ]
    },
    {
     "name": "stdout",
     "output_type": "stream",
     "text": [
      "6\n"
     ]
    }
   ],
   "source": [
    "# tính tổng các chữ số của n\n",
    "def su(n):\n",
    "    s=0\n",
    "    while n!=0:\n",
    "        s+=n%10\n",
    "        n//=10\n",
    "    return s\n",
    "if __name__=='__main__':\n",
    "    n=int(input())\n",
    "    print(su(n))"
   ]
  },
  {
   "cell_type": "code",
   "execution_count": 19,
   "id": "d7531bac-4d65-47e7-8ec8-ffcb395bae9d",
   "metadata": {},
   "outputs": [
    {
     "name": "stdin",
     "output_type": "stream",
     "text": [
      " 123456\n"
     ]
    },
    {
     "name": "stdout",
     "output_type": "stream",
     "text": [
      "12\n"
     ]
    }
   ],
   "source": [
    "#tính tổng các chữ số chẵn\n",
    "def tongchan(n):\n",
    "    s=0\n",
    "    \n",
    "    while n!=0:\n",
    "        if (n%10)%2==0:\n",
    "            s+=n%10\n",
    "        n//=10\n",
    "    return s\n",
    "if __name__=='__main__':\n",
    "    n=int(input())\n",
    "    print ( tongchan(n))"
   ]
  },
  {
   "cell_type": "code",
   "execution_count": 25,
   "id": "45cce1ac-ace6-49ae-be2b-a17bc15a5d1b",
   "metadata": {},
   "outputs": [
    {
     "name": "stdin",
     "output_type": "stream",
     "text": [
      " 123456789\n"
     ]
    },
    {
     "name": "stdout",
     "output_type": "stream",
     "text": [
      "17\n"
     ]
    }
   ],
   "source": [
    "#tính tổng các chữ số nguyên tố \n",
    "def tongnt(n):\n",
    "    s=0\n",
    "    \n",
    "    while n!=0:\n",
    "        if (n%10)==2 or (n%10)==3 or (n%10)==5 or (n%10)==7:\n",
    "            s+=(n%10)\n",
    "        n//=10    \n",
    "    return s\n",
    "if __name__=='__main__':\n",
    "    n=int(input())\n",
    "    print( tongnt(n))    "
   ]
  },
  {
   "cell_type": "code",
   "execution_count": 27,
   "id": "788cd568-bb74-4472-91c9-0fb73dc583a8",
   "metadata": {},
   "outputs": [
    {
     "name": "stdin",
     "output_type": "stream",
     "text": [
      " 123456\n"
     ]
    },
    {
     "name": "stdout",
     "output_type": "stream",
     "text": [
      "654321\n"
     ]
    }
   ],
   "source": [
    "# in số lật ngược \n",
    "a=input()\n",
    "print(a[::-1])"
   ]
  },
  {
   "cell_type": "code",
   "execution_count": null,
   "id": "9c8bb95d-d6df-48fb-b467-fd98d9b9f766",
   "metadata": {},
   "outputs": [],
   "source": []
  }
 ],
 "metadata": {
  "kernelspec": {
   "display_name": "Python 3 (ipykernel)",
   "language": "python",
   "name": "python3"
  },
  "language_info": {
   "codemirror_mode": {
    "name": "ipython",
    "version": 3
   },
   "file_extension": ".py",
   "mimetype": "text/x-python",
   "name": "python",
   "nbconvert_exporter": "python",
   "pygments_lexer": "ipython3",
   "version": "3.12.4"
  }
 },
 "nbformat": 4,
 "nbformat_minor": 5
}
