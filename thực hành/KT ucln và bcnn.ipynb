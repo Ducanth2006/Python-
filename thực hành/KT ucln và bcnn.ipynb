{
 "cells": [
  {
   "cell_type": "code",
   "execution_count": 3,
   "id": "4933f666-a7bf-4954-bbc4-43b53d64b2eb",
   "metadata": {},
   "outputs": [
    {
     "name": "stdout",
     "output_type": "stream",
     "text": [
      "3\n"
     ]
    }
   ],
   "source": [
    "import math \n",
    "a=math.gcd(18,15)\n",
    "print(a)"
   ]
  },
  {
   "cell_type": "code",
   "execution_count": 9,
   "id": "7f5f032d-a1a4-410a-a64b-c3247e6cb26f",
   "metadata": {},
   "outputs": [
    {
     "name": "stdin",
     "output_type": "stream",
     "text": [
      " 22 33\n"
     ]
    },
    {
     "name": "stdout",
     "output_type": "stream",
     "text": [
      "66\n"
     ]
    }
   ],
   "source": [
    "# bội chung nhỏ nhất \n",
    "import math\n",
    "a,b=map(int,input().split())\n",
    "bcnn= (a*b)//math.gcd(a,b)\n",
    "print(bcnn)"
   ]
  },
  {
   "cell_type": "code",
   "execution_count": 21,
   "id": "781c5518-ebcf-4bdd-a23c-865ad5fc731b",
   "metadata": {},
   "outputs": [
    {
     "name": "stdout",
     "output_type": "stream",
     "text": [
      "3\n"
     ]
    }
   ],
   "source": [
    "#tổ hợp chập k của n ta sử dụng hàm comb(a,b)\n",
    "#tổ hợp chập 2 của n = (n*(n-1))//2\n",
    "import math\n",
    "print(math.comb(3,2))\n"
   ]
  },
  {
   "cell_type": "code",
   "execution_count": 25,
   "id": "4f0f1fbc-96c4-43f7-ae01-55671a4b7827",
   "metadata": {},
   "outputs": [
    {
     "name": "stdin",
     "output_type": "stream",
     "text": [
      " 5\n"
     ]
    },
    {
     "name": "stdout",
     "output_type": "stream",
     "text": [
      "1\n",
      "2\n",
      "3\n"
     ]
    }
   ],
   "source": [
    "f1,f2=1,0\n",
    "\n",
    "n=int(input())\n",
    "for i in range(2 ,n):\n",
    "    fn=f1+f2\n",
    "    print(fn)\n",
    "    f1,f2=fn,f1\n",
    "    \n",
    "    "
   ]
  },
  {
   "cell_type": "code",
   "execution_count": null,
   "id": "b433aae6-da27-433b-9cf7-4c57d550b53d",
   "metadata": {},
   "outputs": [],
   "source": []
  }
 ],
 "metadata": {
  "kernelspec": {
   "display_name": "Python 3 (ipykernel)",
   "language": "python",
   "name": "python3"
  },
  "language_info": {
   "codemirror_mode": {
    "name": "ipython",
    "version": 3
   },
   "file_extension": ".py",
   "mimetype": "text/x-python",
   "name": "python",
   "nbconvert_exporter": "python",
   "pygments_lexer": "ipython3",
   "version": "3.12.7"
  }
 },
 "nbformat": 4,
 "nbformat_minor": 5
}
