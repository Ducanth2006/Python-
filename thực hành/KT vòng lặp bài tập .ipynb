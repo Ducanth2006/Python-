{
 "cells": [
  {
   "cell_type": "code",
   "execution_count": 41,
   "id": "d4dd5a16-1663-4146-a41d-a2f9b39ad497",
   "metadata": {},
   "outputs": [
    {
     "name": "stdin",
     "output_type": "stream",
     "text": [
      "nhập số dương -9\n",
      "nhập số dương 8\n"
     ]
    }
   ],
   "source": [
    "while True:\n",
    "    a=int(input('nhập số dương'))\n",
    "    if a>=0:\n",
    "        break"
   ]
  },
  {
   "cell_type": "code",
   "execution_count": 55,
   "id": "00dfcda0-251f-4559-afc8-e8f3fcf567db",
   "metadata": {},
   "outputs": [
    {
     "name": "stdin",
     "output_type": "stream",
     "text": [
      " 12345\n"
     ]
    },
    {
     "name": "stdout",
     "output_type": "stream",
     "text": [
      "54321\n"
     ]
    }
   ],
   "source": [
    "#đảo số \n",
    "n=int(input())\n",
    "lat=0\n",
    "while n!=0:\n",
    "    lat = lat*10 + n %10\n",
    "    n=n//10\n",
    "print(lat)    "
   ]
  },
  {
   "cell_type": "code",
   "execution_count": 66,
   "id": "c4044482-39cf-4ab3-b941-cb2480c86b6c",
   "metadata": {},
   "outputs": [
    {
     "name": "stdin",
     "output_type": "stream",
     "text": [
      " 7\n"
     ]
    },
    {
     "name": "stdout",
     "output_type": "stream",
     "text": [
      "7 6 \n",
      " 6 5 4 \n",
      " 4 3 2 \n",
      " 2 1 "
     ]
    }
   ],
   "source": [
    "# in ra số từ 1 về 0\n",
    "n=int(input())\n",
    "for i in range (n,0,-1):\n",
    "    print(i,end=' ')\n",
    "    if i%2==0:\n",
    "        print('\\n',i,end=' ')"
   ]
  },
  {
   "cell_type": "code",
   "execution_count": 76,
   "id": "77ae7a76-c431-40eb-86e0-23399031e7ed",
   "metadata": {},
   "outputs": [
    {
     "name": "stdin",
     "output_type": "stream",
     "text": [
      "Nhập số n:  6\n"
     ]
    },
    {
     "name": "stdout",
     "output_type": "stream",
     "text": [
      "Tổng các số từ 1 đến 6 là: 21\n"
     ]
    }
   ],
   "source": [
    "n = int(input(\"Nhập số n: \"))  # Nhập số n từ người dùng\n",
    "tong = 0  # Khởi tạo biến tổng\n",
    "number = 1  # Khởi tạo biến đếm\n",
    "\n",
    "while number <= n:  # Điều kiện dừng khi number > n\n",
    "    tong += number  # Cộng dồn vào tổng\n",
    "    number += 1  # Tăng giá trị biến đếm lên 1 sau mỗi lần lặp\n",
    "\n",
    "print(\"Tổng các số từ 1 đến\", n, \"là:\", tong)\n"
   ]
  },
  {
   "cell_type": "code",
   "execution_count": 94,
   "id": "5703cfbe-8f2c-48e6-b93c-ce34e26d9129",
   "metadata": {},
   "outputs": [
    {
     "name": "stdin",
     "output_type": "stream",
     "text": [
      " 60\n"
     ]
    },
    {
     "name": "stdout",
     "output_type": "stream",
     "text": [
      "168\n"
     ]
    }
   ],
   "source": [
    "n=int(input())\n",
    "s=0\n",
    "for i in range(1,int(n**1/2)+1):\n",
    "    if n%i==0:\n",
    "        s+=i\n",
    "print(s+n)        \n",
    "        \n",
    "    "
   ]
  },
  {
   "cell_type": "code",
   "execution_count": 102,
   "id": "3df51fb3-f3b1-438e-8da8-7b524bd59b1a",
   "metadata": {},
   "outputs": [
    {
     "name": "stdin",
     "output_type": "stream",
     "text": [
      " 2\n"
     ]
    },
    {
     "name": "stdout",
     "output_type": "stream",
     "text": [
      "1 "
     ]
    }
   ],
   "source": [
    "n=int(input())\n",
    "for i in range(1,int(n**1/2)+1):\n",
    "    print(i**2,end=' ')\n",
    "#bài 27"
   ]
  },
  {
   "cell_type": "code",
   "execution_count": null,
   "id": "a846e158-3ab3-4c15-8c7b-329144ae4be2",
   "metadata": {},
   "outputs": [],
   "source": []
  }
 ],
 "metadata": {
  "kernelspec": {
   "display_name": "Python 3 (ipykernel)",
   "language": "python",
   "name": "python3"
  },
  "language_info": {
   "codemirror_mode": {
    "name": "ipython",
    "version": 3
   },
   "file_extension": ".py",
   "mimetype": "text/x-python",
   "name": "python",
   "nbconvert_exporter": "python",
   "pygments_lexer": "ipython3",
   "version": "3.12.4"
  }
 },
 "nbformat": 4,
 "nbformat_minor": 5
}
